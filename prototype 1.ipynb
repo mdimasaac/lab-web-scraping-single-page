{
 "cells": [
  {
   "cell_type": "code",
   "execution_count": 13,
   "metadata": {},
   "outputs": [],
   "source": [
    "import pandas as pd\n",
    "import random"
   ]
  },
  {
   "cell_type": "code",
   "execution_count": 22,
   "metadata": {},
   "outputs": [],
   "source": [
    "def getrandom(df):\n",
    "    x = df.shape[0]\n",
    "    x = random.randint(0,x)\n",
    "    rec_title = df.iloc[x,0]\n",
    "    rec_artist = df.iloc[x,1]\n",
    "    return rec_title, rec_artist"
   ]
  },
  {
   "cell_type": "code",
   "execution_count": 10,
   "metadata": {},
   "outputs": [
    {
     "data": {
      "text/html": [
       "<div>\n",
       "<style scoped>\n",
       "    .dataframe tbody tr th:only-of-type {\n",
       "        vertical-align: middle;\n",
       "    }\n",
       "\n",
       "    .dataframe tbody tr th {\n",
       "        vertical-align: top;\n",
       "    }\n",
       "\n",
       "    .dataframe thead th {\n",
       "        text-align: right;\n",
       "    }\n",
       "</style>\n",
       "<table border=\"1\" class=\"dataframe\">\n",
       "  <thead>\n",
       "    <tr style=\"text-align: right;\">\n",
       "      <th></th>\n",
       "      <th>title</th>\n",
       "      <th>artist</th>\n",
       "    </tr>\n",
       "  </thead>\n",
       "  <tbody>\n",
       "    <tr>\n",
       "      <th>0</th>\n",
       "      <td>all i want for christmas is you</td>\n",
       "      <td>mariah carey</td>\n",
       "    </tr>\n",
       "    <tr>\n",
       "      <th>1</th>\n",
       "      <td>rockin' around the christmas tree</td>\n",
       "      <td>brenda lee</td>\n",
       "    </tr>\n",
       "    <tr>\n",
       "      <th>2</th>\n",
       "      <td>jingle bell rock</td>\n",
       "      <td>bobby helms</td>\n",
       "    </tr>\n",
       "    <tr>\n",
       "      <th>3</th>\n",
       "      <td>last christmas</td>\n",
       "      <td>wham!</td>\n",
       "    </tr>\n",
       "    <tr>\n",
       "      <th>4</th>\n",
       "      <td>a holly jolly christmas</td>\n",
       "      <td>burl ives</td>\n",
       "    </tr>\n",
       "  </tbody>\n",
       "</table>\n",
       "</div>"
      ],
      "text/plain": [
       "                               title        artist\n",
       "0    all i want for christmas is you  mariah carey\n",
       "1  rockin' around the christmas tree    brenda lee\n",
       "2                   jingle bell rock   bobby helms\n",
       "3                     last christmas         wham!\n",
       "4            a holly jolly christmas     burl ives"
      ]
     },
     "execution_count": 10,
     "metadata": {},
     "output_type": "execute_result"
    }
   ],
   "source": [
    "df1 = pd.read_csv(\"billboard_top100.csv\")\n",
    "df2 = pd.read_csv(\"popvortex_top100.csv\")\n",
    "df = pd.concat([df1,df2])\n",
    "for i in df.columns:\n",
    "    df[i] = df[i].str.lower()\n",
    "df.head()"
   ]
  },
  {
   "cell_type": "code",
   "execution_count": 41,
   "metadata": {},
   "outputs": [],
   "source": [
    "t = input(\"type in one of your favorite song: \").lower()\n",
    "a = input(\"type in the name of the artist: \").lower()"
   ]
  },
  {
   "cell_type": "code",
   "execution_count": 29,
   "metadata": {},
   "outputs": [],
   "source": [
    "reactions = [\"Nice one!\",\"Great choice!\",\"Not bad!\",\"Interesting!\",\"Cool!\"]"
   ]
  },
  {
   "cell_type": "code",
   "execution_count": 42,
   "metadata": {},
   "outputs": [
    {
     "name": "stdout",
     "output_type": "stream",
     "text": [
      "Nice one! Maybe you'll like this song:\n",
      "\n",
      "Cooler Than Me (Single Mix), by Mike Posner\n"
     ]
    }
   ],
   "source": [
    "title, artist = getrandom(df)\n",
    "if df[\"title\"].str.contains(t).any() or df[\"artist\"].str.contains(a).any():\n",
    "    comment = random.choice(reactions)\n",
    "    print(comment, \"Maybe you'll like this song:\\n\\n\" + title.title() + \", by\", artist.title())\n",
    "else:\n",
    "    print(\"Oh I think I know that one! That's a good choice for music.\")"
   ]
  }
 ],
 "metadata": {
  "kernelspec": {
   "display_name": "Python 3",
   "language": "python",
   "name": "python3"
  },
  "language_info": {
   "codemirror_mode": {
    "name": "ipython",
    "version": 3
   },
   "file_extension": ".py",
   "mimetype": "text/x-python",
   "name": "python",
   "nbconvert_exporter": "python",
   "pygments_lexer": "ipython3",
   "version": "3.10.2"
  },
  "orig_nbformat": 4,
  "vscode": {
   "interpreter": {
    "hash": "1acc24bd1901f9ae8c29efb6830fcc1ca9fe0219dd00f8f1dc1b91856def15a9"
   }
  }
 },
 "nbformat": 4,
 "nbformat_minor": 2
}
