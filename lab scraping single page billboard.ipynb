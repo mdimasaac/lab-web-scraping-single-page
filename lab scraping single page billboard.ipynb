{
 "cells": [
  {
   "cell_type": "code",
   "execution_count": 1,
   "metadata": {},
   "outputs": [],
   "source": [
    "from bs4 import BeautifulSoup as bs4\n",
    "import requests\n",
    "import pandas as pd"
   ]
  },
  {
   "cell_type": "code",
   "execution_count": 2,
   "metadata": {},
   "outputs": [],
   "source": [
    "url = \"https://www.billboard.com/charts/hot-100/\"\n",
    "response = requests.get(url)\n",
    "contents = response.content\n",
    "soup = bs4(contents, \"html.parser\")"
   ]
  },
  {
   "cell_type": "code",
   "execution_count": 3,
   "metadata": {},
   "outputs": [
    {
     "data": {
      "text/plain": [
       "100"
      ]
     },
     "execution_count": 3,
     "metadata": {},
     "output_type": "execute_result"
    }
   ],
   "source": [
    "results = soup.find_all(\"div\",{\"class\":\"o-chart-results-list-row-container\"})\n",
    "len(results)"
   ]
  },
  {
   "cell_type": "code",
   "execution_count": 10,
   "metadata": {},
   "outputs": [],
   "source": [
    "# select = \"ul > li.lrv-u-width-100p\"\n",
    "# soup.select(select)"
   ]
  },
  {
   "cell_type": "code",
   "execution_count": 5,
   "metadata": {},
   "outputs": [
    {
     "data": {
      "text/html": [
       "<div>\n",
       "<style scoped>\n",
       "    .dataframe tbody tr th:only-of-type {\n",
       "        vertical-align: middle;\n",
       "    }\n",
       "\n",
       "    .dataframe tbody tr th {\n",
       "        vertical-align: top;\n",
       "    }\n",
       "\n",
       "    .dataframe thead th {\n",
       "        text-align: right;\n",
       "    }\n",
       "</style>\n",
       "<table border=\"1\" class=\"dataframe\">\n",
       "  <thead>\n",
       "    <tr style=\"text-align: right;\">\n",
       "      <th></th>\n",
       "      <th>title</th>\n",
       "      <th>artist</th>\n",
       "    </tr>\n",
       "  </thead>\n",
       "  <tbody>\n",
       "    <tr>\n",
       "      <th>0</th>\n",
       "      <td>\\n\\n\\t\\n\\t\\n\\t\\t\\n\\t\\t\\t\\t\\tAll I Want For Chr...</td>\n",
       "      <td>\\n\\t\\n\\tMariah Carey\\n</td>\n",
       "    </tr>\n",
       "    <tr>\n",
       "      <th>1</th>\n",
       "      <td>\\n\\n\\t\\n\\t\\n\\t\\t\\n\\t\\t\\t\\t\\tRockin' Around The...</td>\n",
       "      <td>\\n\\t\\n\\tBrenda Lee\\n</td>\n",
       "    </tr>\n",
       "    <tr>\n",
       "      <th>2</th>\n",
       "      <td>\\n\\n\\t\\n\\t\\n\\t\\t\\n\\t\\t\\t\\t\\tJingle Bell Rock\\t...</td>\n",
       "      <td>\\n\\t\\n\\tBobby Helms\\n</td>\n",
       "    </tr>\n",
       "    <tr>\n",
       "      <th>3</th>\n",
       "      <td>\\n\\n\\t\\n\\t\\n\\t\\t\\n\\t\\t\\t\\t\\tLast Christmas\\t\\t...</td>\n",
       "      <td>\\n\\t\\n\\tWham!\\n</td>\n",
       "    </tr>\n",
       "    <tr>\n",
       "      <th>4</th>\n",
       "      <td>\\n\\n\\t\\n\\t\\n\\t\\t\\n\\t\\t\\t\\t\\tA Holly Jolly Chri...</td>\n",
       "      <td>\\n\\t\\n\\tBurl Ives\\n</td>\n",
       "    </tr>\n",
       "  </tbody>\n",
       "</table>\n",
       "</div>"
      ],
      "text/plain": [
       "                                               title                  artist\n",
       "0  \\n\\n\\t\\n\\t\\n\\t\\t\\n\\t\\t\\t\\t\\tAll I Want For Chr...  \\n\\t\\n\\tMariah Carey\\n\n",
       "1  \\n\\n\\t\\n\\t\\n\\t\\t\\n\\t\\t\\t\\t\\tRockin' Around The...    \\n\\t\\n\\tBrenda Lee\\n\n",
       "2  \\n\\n\\t\\n\\t\\n\\t\\t\\n\\t\\t\\t\\t\\tJingle Bell Rock\\t...   \\n\\t\\n\\tBobby Helms\\n\n",
       "3  \\n\\n\\t\\n\\t\\n\\t\\t\\n\\t\\t\\t\\t\\tLast Christmas\\t\\t...         \\n\\t\\n\\tWham!\\n\n",
       "4  \\n\\n\\t\\n\\t\\n\\t\\t\\n\\t\\t\\t\\t\\tA Holly Jolly Chri...     \\n\\t\\n\\tBurl Ives\\n"
      ]
     },
     "execution_count": 5,
     "metadata": {},
     "output_type": "execute_result"
    }
   ],
   "source": [
    "titles = []\n",
    "artists = []\n",
    "for i in results:\n",
    "    info = i.find(\"li\",{\"class\":\"lrv-u-width-100p\"})\n",
    "    title = info.find(\"h3\",{\"id\":\"title-of-a-story\"}).text\n",
    "    artist = info.find_all(\"span\")[0].text\n",
    "    titles.append(title)\n",
    "    artists.append(artist)\n",
    "top100 = pd.DataFrame({\"title\":titles,\"artist\":artists})\n",
    "top100.head()"
   ]
  },
  {
   "cell_type": "code",
   "execution_count": 6,
   "metadata": {},
   "outputs": [
    {
     "data": {
      "text/plain": [
       "(100, 2)"
      ]
     },
     "metadata": {},
     "output_type": "display_data"
    },
    {
     "data": {
      "text/plain": [
       "title     0\n",
       "artist    0\n",
       "dtype: int64"
      ]
     },
     "metadata": {},
     "output_type": "display_data"
    },
    {
     "data": {
      "text/html": [
       "<div>\n",
       "<style scoped>\n",
       "    .dataframe tbody tr th:only-of-type {\n",
       "        vertical-align: middle;\n",
       "    }\n",
       "\n",
       "    .dataframe tbody tr th {\n",
       "        vertical-align: top;\n",
       "    }\n",
       "\n",
       "    .dataframe thead th {\n",
       "        text-align: right;\n",
       "    }\n",
       "</style>\n",
       "<table border=\"1\" class=\"dataframe\">\n",
       "  <thead>\n",
       "    <tr style=\"text-align: right;\">\n",
       "      <th></th>\n",
       "      <th>title</th>\n",
       "      <th>artist</th>\n",
       "    </tr>\n",
       "  </thead>\n",
       "  <tbody>\n",
       "    <tr>\n",
       "      <th>0</th>\n",
       "      <td>All I Want For Christmas Is You</td>\n",
       "      <td>Mariah Carey</td>\n",
       "    </tr>\n",
       "    <tr>\n",
       "      <th>1</th>\n",
       "      <td>Rockin' Around The Christmas Tree</td>\n",
       "      <td>Brenda Lee</td>\n",
       "    </tr>\n",
       "    <tr>\n",
       "      <th>2</th>\n",
       "      <td>Jingle Bell Rock</td>\n",
       "      <td>Bobby Helms</td>\n",
       "    </tr>\n",
       "    <tr>\n",
       "      <th>3</th>\n",
       "      <td>Last Christmas</td>\n",
       "      <td>Wham!</td>\n",
       "    </tr>\n",
       "    <tr>\n",
       "      <th>4</th>\n",
       "      <td>A Holly Jolly Christmas</td>\n",
       "      <td>Burl Ives</td>\n",
       "    </tr>\n",
       "  </tbody>\n",
       "</table>\n",
       "</div>"
      ],
      "text/plain": [
       "                               title        artist\n",
       "0    All I Want For Christmas Is You  Mariah Carey\n",
       "1  Rockin' Around The Christmas Tree    Brenda Lee\n",
       "2                   Jingle Bell Rock   Bobby Helms\n",
       "3                     Last Christmas         Wham!\n",
       "4            A Holly Jolly Christmas     Burl Ives"
      ]
     },
     "execution_count": 6,
     "metadata": {},
     "output_type": "execute_result"
    }
   ],
   "source": [
    "for col in top100.columns:\n",
    "    top100[col] = top100[col].str.replace(\"\\n\",\"\")\n",
    "    top100[col] = top100[col].str.replace(\"\\t\",\"\")\n",
    "display(top100.shape)\n",
    "display(top100.isna().sum())\n",
    "top100.head()"
   ]
  },
  {
   "cell_type": "code",
   "execution_count": 7,
   "metadata": {},
   "outputs": [],
   "source": [
    "top100.to_csv(\"billboard_top100.csv\", index = False)"
   ]
  }
 ],
 "metadata": {
  "kernelspec": {
   "display_name": "Python 3",
   "language": "python",
   "name": "python3"
  },
  "language_info": {
   "codemirror_mode": {
    "name": "ipython",
    "version": 3
   },
   "file_extension": ".py",
   "mimetype": "text/x-python",
   "name": "python",
   "nbconvert_exporter": "python",
   "pygments_lexer": "ipython3",
   "version": "3.10.2"
  },
  "orig_nbformat": 4,
  "vscode": {
   "interpreter": {
    "hash": "1acc24bd1901f9ae8c29efb6830fcc1ca9fe0219dd00f8f1dc1b91856def15a9"
   }
  }
 },
 "nbformat": 4,
 "nbformat_minor": 2
}
